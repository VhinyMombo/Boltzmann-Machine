{
  "nbformat": 4,
  "nbformat_minor": 0,
  "metadata": {
    "colab": {
      "name": "Ising.ipynb",
      "provenance": [],
      "collapsed_sections": [],
      "authorship_tag": "ABX9TyOrSk24qgfNWmk6TSlYDiLA",
      "include_colab_link": true
    },
    "kernelspec": {
      "name": "python3",
      "display_name": "Python 3"
    },
    "language_info": {
      "name": "python"
    }
  },
  "cells": [
    {
      "cell_type": "markdown",
      "metadata": {
        "id": "view-in-github",
        "colab_type": "text"
      },
      "source": [
        "<a href=\"https://colab.research.google.com/github/VhinyMombo/Boltzmann-Machine/blob/main/Ising.ipynb\" target=\"_parent\"><img src=\"https://colab.research.google.com/assets/colab-badge.svg\" alt=\"Open In Colab\"/></a>"
      ]
    },
    {
      "cell_type": "markdown",
      "source": [
        "### Model Ising"
      ],
      "metadata": {
        "id": "xxoNGlpyrJx0"
      }
    },
    {
      "cell_type": "code",
      "execution_count": 2,
      "metadata": {
        "id": "uZWeQQy1XTK_"
      },
      "outputs": [],
      "source": [
        "#%%writefile -a IsingModel.py\n",
        "from gzip import READ\n",
        "import random\n",
        "import numpy as np\n",
        "import matplotlib.pyplot as plt\n",
        "\n",
        "class IsingModel():\n",
        "  def __init__(self,n,p,beta,nb_cycle,prob = 0.5):\n",
        "    self._n = 50\n",
        "    self._p = p\n",
        "    self._proba = prob\n",
        "    self.nb_cycle = nb_cycle\n",
        "    self.beta = beta\n",
        "    \n",
        "\n",
        "  def __get_neighbours2(self, i,j):\n",
        "    u = 1 if i+1 > self._n-1 else i+1\n",
        "    a = self._n-1 if i-1 < 0 else i-1\n",
        "    l = self._p-1 if j-1 < 0 else j-1\n",
        "    r = 1 if j+1 > self._p-1 else j+1\n",
        "\n",
        "    neighoors_coord = np.array([u,l,u,r,a,l,a,r]).reshape([4,2])\n",
        "    return neighoors_coord\n",
        "\n",
        "  def  get_params(self):\n",
        "    \n",
        "    return {'n' : self._n,\n",
        "            'p' : self._p,\n",
        "            'proba' : self._proba,\n",
        "            'beta' : self.beta,\n",
        "            'nb_cycle' : self.nb_cycle}\n",
        "\n",
        "  def __update(self, i,j,mat2):\n",
        "    sum_N_index= sum([mat2[k[0],k[1]] for k in self.__get_neighbours2(i,j)])\n",
        "\n",
        "    pX_ij_cond_Nij  = 1/(1+np.exp(-2*self.beta * sum_N_index))\n",
        "    \n",
        "    mat2[i,j] = 2 * np.random.binomial(1,pX_ij_cond_Nij,1)-1\n",
        "    return mat2.reshape(self._n,self._p).T\n",
        "\n",
        "  def __call__(self):\n",
        "    cycle = 1\n",
        "    mat  = ((2 * np.random.binomial(1,self._proba,self._n * self._p)-1)\n",
        "    .reshape([self._n, self._p]))\n",
        "    mat2 = mat.copy()\n",
        "\n",
        "    while(cycle <= self.nb_cycle):\n",
        "      cycle+=1\n",
        "      #print(cycle)\n",
        "      walk_order = random.sample(list(range(self._n*self._p)),self._n*self._p)\n",
        "      for i in range(self._n):\n",
        "        for j in range(self._p):\n",
        "          mat2 = self.__update(i,j,mat2)    \n",
        "    return mat2\n",
        "\n"
      ]
    },
    {
      "cell_type": "markdown",
      "source": [
        ""
      ],
      "metadata": {
        "id": "D35L4If42aR_"
      }
    },
    {
      "cell_type": "code",
      "source": [
        "#%%writefile -a main.py\n",
        "n = 50\n",
        "p =  50\n",
        "prob = 0.5\n",
        "beta = 10\n",
        "nb_cycle = 100\n",
        "model = IsingModel(n,p,beta, nb_cycle,prob)\n",
        "plt.imshow(model())"
      ],
      "metadata": {
        "colab": {
          "base_uri": "https://localhost:8080/",
          "height": 285
        },
        "id": "85i2gSiFZc_6",
        "outputId": "a3fe5286-cb82-4fc0-8d76-9cc6ff8d1332"
      },
      "execution_count": 3,
      "outputs": [
        {
          "output_type": "execute_result",
          "data": {
            "text/plain": [
              "<matplotlib.image.AxesImage at 0x7fc077814a50>"
            ]
          },
          "metadata": {},
          "execution_count": 3
        },
        {
          "output_type": "display_data",
          "data": {
            "text/plain": [
              "<Figure size 432x288 with 1 Axes>"
            ],
            "image/png": "[encoded data removed]"
          },
          "metadata": {
            "needs_background": "light"
          }
        }
      ]
    },
    {
      "cell_type": "code",
      "source": [
        "model.get_params()"
      ],
      "metadata": {
        "colab": {
          "base_uri": "https://localhost:8080/"
        },
        "id": "88YFrYv7nAAc",
        "outputId": "fd3af0a8-34cf-4fea-83f2-13c86b30535a"
      },
      "execution_count": 128,
      "outputs": [
        {
          "output_type": "execute_result",
          "data": {
            "text/plain": [
              "{'beta': 3, 'n': 50, 'nb_cycle': 100, 'p': 50, 'proba': 0.5}"
            ]
          },
          "metadata": {},
          "execution_count": 128
        }
      ]
    },
    {
      "cell_type": "code",
      "source": [
        "n = 1\n",
        "p = 0.5\n",
        "s = 2*np.random.binomial(1, p, 1)-1\n",
        "s"
      ],
      "metadata": {
        "colab": {
          "base_uri": "https://localhost:8080/"
        },
        "id": "la1zH_xuZgEy",
        "outputId": "a51b5de8-4e0d-4dbc-a7d3-f018933f5457"
      },
      "execution_count": 81,
      "outputs": [
        {
          "output_type": "execute_result",
          "data": {
            "text/plain": [
              "array([1])"
            ]
          },
          "metadata": {},
          "execution_count": 81
        }
      ]
    },
    {
      "cell_type": "code",
      "source": [
        "%%writefile -a Boltzmann.py\n",
        "\n",
        "class BoltzmannModel(IsingModel):\n",
        "  def __init__(self,n,p,beta, nb_cycle,prob,input_size, n_hidden_unit):\n",
        "    super().__init__(n,p,beta,nb_cycle,prob)\n",
        "    self._input_size = input_size\n",
        "    self._n_hidden_unit = n_hidden_unit\n",
        "\n",
        "  def  get_params(self):\n",
        "    \n",
        "    return {'n' : self._n,\n",
        "            'p' : self._p,\n",
        "            'proba' : self._proba,\n",
        "            'beta' : self.beta,\n",
        "            'nb_cycle' : self.nb_cycle,\n",
        "            'input_size' : self._input_size,\n",
        "            'n_hidden_unit' : self._n_hidden_unit}\n",
        "\n",
        "    def __simul(self, v):\n",
        "      cycle = 1\n",
        "      mat  = ((2 * np.random.binomial(1,self._proba,self._n * self._p)-1)\n",
        "      .reshape([self._n, self._p]))\n",
        "      mat2 = mat.copy()\n",
        "\n",
        "      while(cycle <= self.nb_cycle):\n",
        "        cycle+=1\n",
        "        #print(cycle)\n",
        "        #walk_order = random.sample(list(range(self._n*self._p)),self._n*self._p)\n",
        "        for i in range(self._n):\n",
        "          for j in range(self._p):\n",
        "            mat2 = self.__update(i,j,mat2)    \n",
        "      return mat2\n",
        "\n",
        "  def forward(self,x):\n",
        "    x = x.flatten()\n",
        "    h = np.random.random(self._n_hidden_unit)\n",
        "\n",
        "\n",
        "\n",
        "\n",
        "\n",
        "  \n"
      ],
      "metadata": {
        "colab": {
          "base_uri": "https://localhost:8080/"
        },
        "id": "q8hOfolfXguV",
        "outputId": "908fa4fa-7b36-4348-eacd-36a40977cf53"
      },
      "execution_count": 20,
      "outputs": [
        {
          "output_type": "stream",
          "name": "stdout",
          "text": [
            "Writing Boltzmann.py\n"
          ]
        }
      ]
    },
    {
      "cell_type": "code",
      "source": [
        "np.random.random(2)"
      ],
      "metadata": {
        "colab": {
          "base_uri": "https://localhost:8080/"
        },
        "id": "aiQVNakAfh4L",
        "outputId": "975c1fa2-eeb7-4abc-b1c6-1322edf631d8"
      },
      "execution_count": 19,
      "outputs": [
        {
          "output_type": "execute_result",
          "data": {
            "text/plain": [
              "array([0.10857099, 0.19740791])"
            ]
          },
          "metadata": {},
          "execution_count": 19
        }
      ]
    },
    {
      "cell_type": "code",
      "source": [
        "model2 = BoltzmannModel(n,p,beta, nb_cycle,prob,10, 5)"
      ],
      "metadata": {
        "id": "vtt664iwYqn1"
      },
      "execution_count": 14,
      "outputs": []
    },
    {
      "cell_type": "code",
      "source": [
        "f = model2()"
      ],
      "metadata": {
        "id": "geAgeUWSbcH6"
      },
      "execution_count": 17,
      "outputs": []
    }
  ]
}